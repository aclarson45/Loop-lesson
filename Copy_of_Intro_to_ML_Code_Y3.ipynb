{
  "nbformat": 4,
  "nbformat_minor": 0,
  "metadata": {
    "colab": {
      "provenance": [],
      "include_colab_link": true
    },
    "kernelspec": {
      "name": "python3",
      "display_name": "Python 3"
    },
    "language_info": {
      "name": "python"
    }
  },
  "cells": [
    {
      "cell_type": "markdown",
      "metadata": {
        "id": "view-in-github",
        "colab_type": "text"
      },
      "source": [
        "<a href=\"https://colab.research.google.com/github/aclarson45/Loop-lesson/blob/main/Copy_of_Intro_to_ML_Code_Y3.ipynb\" target=\"_parent\"><img src=\"https://colab.research.google.com/assets/colab-badge.svg\" alt=\"Open In Colab\"/></a>"
      ]
    },
    {
      "cell_type": "markdown",
      "source": [
        "Created by Aaron Khiev, Indrani Mandal, and Beth Price"
      ],
      "metadata": {
        "id": "21VZPOmZ3XOZ"
      }
    },
    {
      "cell_type": "markdown",
      "source": [
        "This work is supported by the NSF ITEST Program DRL-2148451. Any opinions, findings, and conclusions, or recommendations expressed in this material are those of the author(s) and do not necessarily reflect the views of the National Science Foundation.\n",
        "\n",
        "Principal Investigators: Kathy Eller, Leo Celi, Brandy Jackson, Mike Cassidy"
      ],
      "metadata": {
        "id": "9e3-l9kfXavL"
      }
    },
    {
      "cell_type": "markdown",
      "source": [
        "##A Whirlwind Tour of Python\n",
        "If you are not familiar with Python or you feel you are rusty then the following digital book is recommend by Jake VanderPlas as an intro to Python:\n",
        "\n",
        "[A Whirlwind Tour of Python](https://jakevdp.github.io/WhirlwindTourOfPython/)\n",
        "\n",
        "It will take you far beyond what we will need for this course, but could be fun to play with if you want to go beyond or just want to explore."
      ],
      "metadata": {
        "id": "-6xYMNd03Xd-"
      }
    },
    {
      "cell_type": "markdown",
      "source": [
        "##Python - simple commands!\n",
        "Python is a computer program that you can use to talk with your computer and give it instructions. When you start Python, it opens up a special window called the shell where you can type in commands and see the computer's responses right away. It's like having a conversation with the computer to make it do things for you.\n",
        "\n",
        "Below are a few simple codes. To run the code, click on the [ ] to the left of the code.\n",
        "\n",
        "*Running code* means making the computer follow the instructions written in a program. It's like pressing the play button on a video or starting a game. When you run code, the computer reads the instructions one by one and performs the actions described in the program. This could include calculations, showing messages on the screen, or interacting with the user. Running code brings the program to life and makes it do whatever it was designed to do."
      ],
      "metadata": {
        "id": "TGcalFPP4Jqf"
      }
    },
    {
      "cell_type": "code",
      "source": [
        "7/2"
      ],
      "metadata": {
        "id": "I4Az7Z-h4Z6s"
      },
      "execution_count": null,
      "outputs": []
    },
    {
      "cell_type": "code",
      "source": [
        "print(\"hello world!\")"
      ],
      "metadata": {
        "id": "ig1KxzPf4fz7"
      },
      "execution_count": null,
      "outputs": []
    },
    {
      "cell_type": "code",
      "source": [
        "print(\"hi\")"
      ],
      "metadata": {
        "id": "1yOuIKM-4key"
      },
      "execution_count": null,
      "outputs": []
    },
    {
      "cell_type": "code",
      "source": [
        "3 + 10.5"
      ],
      "metadata": {
        "id": "7iYHr5YM4qtm"
      },
      "execution_count": null,
      "outputs": []
    },
    {
      "cell_type": "code",
      "source": [
        "25*35"
      ],
      "metadata": {
        "id": "_7VOwFH3MK0W"
      },
      "execution_count": null,
      "outputs": []
    },
    {
      "cell_type": "markdown",
      "source": [
        "##Dictionaries/Libraries\n",
        "\n",
        "Libraries in Colaboratory notebooks are like big collections of ready-to-use tools that can help you do different things in your computer program. Just like how you might have a toolbox with different tools for different tasks, libraries provide you with pre-made functions and features that you can use in your code without having to write everything from scratch. These libraries contain useful code created by other people that you can import and use in your notebook to make your programming tasks easier and faster. It's like borrowing tools from someone else to help you build or fix things in your program.\n",
        "\n",
        "For this course, you will not need to memorize any code or libraries. You will have Colab notebooks with the code you will need."
      ],
      "metadata": {
        "id": "0XNH77eq9Dlr"
      }
    },
    {
      "cell_type": "code",
      "source": [
        "import pandas"
      ],
      "metadata": {
        "id": "_JlwOgL99JX8"
      },
      "execution_count": null,
      "outputs": []
    },
    {
      "cell_type": "markdown",
      "source": [
        "This code imported the *pandas* library. Pandas is a library in Python that helps us work with data. It provides us with tools to organize, analyze, and manipulate data easily."
      ],
      "metadata": {
        "id": "kJqsly_W9mjH"
      }
    },
    {
      "cell_type": "code",
      "source": [
        "url='https://raw.githubusercontent.com/ScoutlierDataScience/DSAIY/main/goodEducation.csv'"
      ],
      "metadata": {
        "id": "usfbrzy3_NdT"
      },
      "execution_count": null,
      "outputs": []
    },
    {
      "cell_type": "markdown",
      "source": [
        "The code above lets us import a dataset (a file of data) that has been stored on the internet. For this course, the datasets you will use have all been downloaded and stored on place in order for you to access them easily. If you follow the URL above, you will see raw data. It has not been put into a form that is easy to use."
      ],
      "metadata": {
        "id": "CAx4DobGFT8k"
      }
    },
    {
      "cell_type": "markdown",
      "source": [
        "The code below allows us to put any CSV (dataset) file into a DataFrame. A DataFrame like a special kind of table that we use to organize and work with data in Python.\n",
        "\n",
        "A DataFrame helps us organize information in a structured and organized way, just like a table with rows and columns."
      ],
      "metadata": {
        "id": "SlTKSW46-iP5"
      }
    },
    {
      "cell_type": "code",
      "source": [
        "df = pandas.read_csv(url)"
      ],
      "metadata": {
        "id": "JffNXZVl9ljw"
      },
      "execution_count": null,
      "outputs": []
    },
    {
      "cell_type": "markdown",
      "source": [
        "When we ran the code, we didn't see the dataframe. We need to tell it to show it to us with simple instructions:"
      ],
      "metadata": {
        "id": "N4N2z_U6D8X-"
      }
    },
    {
      "cell_type": "code",
      "source": [
        "df"
      ],
      "metadata": {
        "id": "u2KjFFfrEIjw"
      },
      "execution_count": null,
      "outputs": []
    },
    {
      "cell_type": "markdown",
      "source": [
        "This shows us the data in a table. You can substitute data for the \"df\" as well. Let's try it."
      ],
      "metadata": {
        "id": "6IXqhEvHEKzo"
      }
    },
    {
      "cell_type": "code",
      "source": [
        "data = pandas.read_csv(url)\n",
        "data"
      ],
      "metadata": {
        "id": "Sj3S3nNCEY7j"
      },
      "execution_count": null,
      "outputs": []
    },
    {
      "cell_type": "markdown",
      "source": [
        "*df* or *data* as code in the pandas library lets us look at and use the data.\n",
        "\n",
        "As we move into more complex code, the code will be written out for you in later notebooks. Sometimes an explanation will be included to help you understand what the code does and why it is written the way it is.\n"
      ],
      "metadata": {
        "id": "x-O_s8RAEjBz"
      }
    },
    {
      "cell_type": "markdown",
      "source": [
        "Let's look at a few more pieces of code that you will be using in Machine Learning."
      ],
      "metadata": {
        "id": "N0mWIWIgGgYO"
      }
    },
    {
      "cell_type": "markdown",
      "source": [
        "###Viewing the first few rows of the data:"
      ],
      "metadata": {
        "id": "m-xBsbSLGuqc"
      }
    },
    {
      "cell_type": "code",
      "source": [
        "df.head()"
      ],
      "metadata": {
        "id": "sK2MK1GEGqI1"
      },
      "execution_count": null,
      "outputs": []
    },
    {
      "cell_type": "markdown",
      "source": [
        "Let's look at only the first 2 rows by placing a 2 in the ().\n",
        "This can be changed to any number for a dataset."
      ],
      "metadata": {
        "id": "9WuNGVxXHR_y"
      }
    },
    {
      "cell_type": "code",
      "source": [
        "df.head(2)"
      ],
      "metadata": {
        "id": "3bimsDmiHYoz"
      },
      "execution_count": null,
      "outputs": []
    },
    {
      "cell_type": "markdown",
      "source": [
        "###Checking the shape  of the DataFrame:\n",
        "(number of rows, number of columns)"
      ],
      "metadata": {
        "id": "IgmiktDyG4FC"
      }
    },
    {
      "cell_type": "code",
      "source": [
        "df.shape"
      ],
      "metadata": {
        "id": "P3TldQsnG9WK"
      },
      "execution_count": null,
      "outputs": []
    },
    {
      "cell_type": "markdown",
      "source": [
        "###Obtaining basic statistics of the DataFrame:\n",
        "The information you get from this code may remind you of the information you saw when you created box plots."
      ],
      "metadata": {
        "id": "acmJFO9kHeFr"
      }
    },
    {
      "cell_type": "code",
      "source": [
        "df.describe()"
      ],
      "metadata": {
        "id": "sBANI8DkHlOI"
      },
      "execution_count": null,
      "outputs": []
    },
    {
      "cell_type": "markdown",
      "source": [
        "###Find the names of the columns of the DataFrame"
      ],
      "metadata": {
        "id": "aLsj1PPfHq5t"
      }
    },
    {
      "cell_type": "code",
      "source": [
        "df.columns"
      ],
      "metadata": {
        "id": "m2r5xMN1IU0U"
      },
      "execution_count": null,
      "outputs": []
    },
    {
      "cell_type": "markdown",
      "source": [
        "###Look at one column at a time\n",
        "\n",
        "file=df.nameofcolumn"
      ],
      "metadata": {
        "id": "EpmfiUvXIb15"
      }
    },
    {
      "cell_type": "code",
      "source": [
        "file=df.PercentYes\n",
        "file"
      ],
      "metadata": {
        "id": "P9_8lUEJIoQv"
      },
      "execution_count": null,
      "outputs": []
    },
    {
      "cell_type": "code",
      "source": [
        "file=df.YesCount\n",
        "file"
      ],
      "metadata": {
        "id": "3VQgE_OKPAWD"
      },
      "execution_count": null,
      "outputs": []
    },
    {
      "cell_type": "markdown",
      "source": [
        "##Be sure to run your code as you go. You will know when you have made an error as soon as you have written and run your code instead of waiting until the end. Don't forget to save your work. :)\n",
        "\n",
        "Something to note: Even though we can use words as data in Python and other coding languages, we often need to do extra work to get them ready for certain tasks. This is especially true when we want to use numbers for things like math problems or teaching computers how to understand patterns. Because of this, we will be using numbers in this course. When data only has a few possible answers, we can easily convert these answers to numbers. For example, 'Yes' and 'No' can be changed to 1 and 2, respectively."
      ],
      "metadata": {
        "id": "Y6WCZgLZJcLy"
      }
    }
  ]
}